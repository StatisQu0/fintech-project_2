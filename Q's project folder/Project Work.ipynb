{
 "cells": [
  {
   "cell_type": "code",
   "execution_count": 35,
   "id": "a08aeef9-b6f1-4886-8cef-fd09b9b1fb6b",
   "metadata": {},
   "outputs": [],
   "source": [
    "# Making a Steam game recommender with Collaborative filtering\n",
    "\n",
    "#Collaborative Filtering is a technique used for recommender systems. Collaborative filtering infers the preferences for new items given the known preferences from users.\n",
    "\n",
    "#One of the ways to implement collaborative filtering is Matrix Factorization\n",
    "\n",
    "#To explain it simple, think of it as a matrix multiplication problem"
   ]
  },
  {
   "cell_type": "code",
   "execution_count": 4,
   "id": "ee1809d9-a567-4635-bdc0-9d606e75d142",
   "metadata": {},
   "outputs": [
    {
     "data": {
      "text/plain": [
       "'1.14.0'"
      ]
     },
     "execution_count": 4,
     "metadata": {},
     "output_type": "execute_result"
    }
   ],
   "source": [
    "import numpy as np \n",
    "import pandas as pd \n",
    "import random\n",
    "from collections import Counter\n",
    "from sklearn.metrics import roc_curve, auc, average_precision_score\n",
    "import tensorflow as tf\n",
    "tf.__version__"
   ]
  },
  {
   "cell_type": "code",
   "execution_count": null,
   "id": "2b669b89-d517-4eda-9e2a-edde1761b25f",
   "metadata": {},
   "outputs": [],
   "source": [
    "#Data cleaning\n",
    "\n",
    "#The data was corrupted with DLCs and expansion packs.\n",
    "\n",
    "# I used whatever domain knowledge I have to cleanse the data.\n",
    "\n",
    "#Also, there were non-video game contents such as the Source Film Maker, which had to be filtered out."
   ]
  },
  {
   "cell_type": "code",
   "execution_count": 5,
   "id": "aa5aa9cb-68ed-483e-8fb3-7132c5ff0f76",
   "metadata": {},
   "outputs": [],
   "source": [
    "path = 'Resources/steam-200k.csv'\n",
    "#path = 'steam-200k.csv'\n",
    "df = pd.read_csv(path, header = None,\n",
    "                 names = ['UserID', 'Game', 'Action', 'Hours', 'Other'])\n",
    "df.head()\n",
    "\n",
    "df['Hours_Played'] = df['Hours'].astype('float32')\n",
    "\n",
    "df.loc[(df['Action'] == 'purchase') & (df['Hours'] == 1.0), 'Hours_Played'] = 0"
   ]
  },
  {
   "cell_type": "code",
   "execution_count": 6,
   "id": "0c40f0d1-a71a-4d74-b1c8-4a7cbd0af2de",
   "metadata": {},
   "outputs": [
    {
     "data": {
      "text/html": [
       "<div>\n",
       "<style scoped>\n",
       "    .dataframe tbody tr th:only-of-type {\n",
       "        vertical-align: middle;\n",
       "    }\n",
       "\n",
       "    .dataframe tbody tr th {\n",
       "        vertical-align: top;\n",
       "    }\n",
       "\n",
       "    .dataframe thead th {\n",
       "        text-align: right;\n",
       "    }\n",
       "</style>\n",
       "<table border=\"1\" class=\"dataframe\">\n",
       "  <thead>\n",
       "    <tr style=\"text-align: right;\">\n",
       "      <th></th>\n",
       "      <th>UserID</th>\n",
       "      <th>Game</th>\n",
       "      <th>Hours_Played</th>\n",
       "    </tr>\n",
       "  </thead>\n",
       "  <tbody>\n",
       "    <tr>\n",
       "      <th>65430</th>\n",
       "      <td>5250</td>\n",
       "      <td>Alien Swarm</td>\n",
       "      <td>4.9</td>\n",
       "    </tr>\n",
       "    <tr>\n",
       "      <th>65424</th>\n",
       "      <td>5250</td>\n",
       "      <td>Cities Skylines</td>\n",
       "      <td>144.0</td>\n",
       "    </tr>\n",
       "    <tr>\n",
       "      <th>65435</th>\n",
       "      <td>5250</td>\n",
       "      <td>Counter-Strike</td>\n",
       "      <td>0.0</td>\n",
       "    </tr>\n",
       "    <tr>\n",
       "      <th>65436</th>\n",
       "      <td>5250</td>\n",
       "      <td>Counter-Strike Source</td>\n",
       "      <td>0.0</td>\n",
       "    </tr>\n",
       "    <tr>\n",
       "      <th>65437</th>\n",
       "      <td>5250</td>\n",
       "      <td>Day of Defeat</td>\n",
       "      <td>0.0</td>\n",
       "    </tr>\n",
       "  </tbody>\n",
       "</table>\n",
       "</div>"
      ],
      "text/plain": [
       "       UserID                   Game  Hours_Played\n",
       "65430    5250            Alien Swarm           4.9\n",
       "65424    5250        Cities Skylines         144.0\n",
       "65435    5250         Counter-Strike           0.0\n",
       "65436    5250  Counter-Strike Source           0.0\n",
       "65437    5250          Day of Defeat           0.0"
      ]
     },
     "execution_count": 6,
     "metadata": {},
     "output_type": "execute_result"
    }
   ],
   "source": [
    "df.UserID = df.UserID.astype('int')\n",
    "df = df.sort_values(['UserID', 'Game', 'Hours_Played'])\n",
    "\n",
    "clean_df = df.drop_duplicates(['UserID', 'Game'], keep = 'last').drop(['Action', 'Hours', 'Other'], axis = 1)\n",
    "\n",
    "# every transaction is represented by only one record now\n",
    "clean_df.head()"
   ]
  },
  {
   "cell_type": "code",
   "execution_count": 7,
   "id": "95a7c50f-bae2-44db-8d99-8293e54bbeba",
   "metadata": {},
   "outputs": [
    {
     "name": "stdout",
     "output_type": "stream",
     "text": [
      "There are 12393 users and 5155 games in the data\n"
     ]
    }
   ],
   "source": [
    "n_users = len(clean_df.UserID.unique())\n",
    "n_games = len(clean_df.Game.unique())\n",
    "\n",
    "print('There are {0} users and {1} games in the data'.format(n_users, n_games))"
   ]
  },
  {
   "cell_type": "code",
   "execution_count": 8,
   "id": "7bba1fce-4cab-45e6-ab1b-7fb70497f5be",
   "metadata": {},
   "outputs": [
    {
     "name": "stdout",
     "output_type": "stream",
     "text": [
      "0.20% of the user-item matrix is filled\n"
     ]
    }
   ],
   "source": [
    "sparsity = clean_df.shape[0] / float(n_users * n_games)\n",
    "print('{:.2%} of the user-item matrix is filled'.format(sparsity))"
   ]
  },
  {
   "cell_type": "code",
   "execution_count": 9,
   "id": "c9f5b1f9-bd59-4020-b772-0951447bd21f",
   "metadata": {},
   "outputs": [],
   "source": [
    "user_counter = Counter()\n",
    "for user in clean_df.UserID.tolist():\n",
    "    user_counter[user] +=1\n",
    "\n",
    "game_counter = Counter()\n",
    "for game in clean_df.Game.tolist():\n",
    "    game_counter[game] += 1\n",
    "\n",
    "user2idx = {user: i for i, user in enumerate(clean_df.UserID.unique())}\n",
    "idx2user = {i: user for user, i in user2idx.items()}\n",
    "\n",
    "game2idx = {game: i for i, game in enumerate(clean_df.Game.unique())}\n",
    "idx2game = {i: game for game, i in game2idx.items()}"
   ]
  },
  {
   "cell_type": "code",
   "execution_count": 10,
   "id": "a9ebae85-7f1d-4890-a948-e23be9c393ec",
   "metadata": {},
   "outputs": [],
   "source": [
    "user_idx = clean_df['UserID'].apply(lambda x: user2idx[x]).values\n",
    "game_idx = clean_df['gameIdx'] = clean_df['Game'].apply(lambda x: game2idx[x]).values\n",
    "hours = clean_df['Hours_Played'].values"
   ]
  },
  {
   "cell_type": "code",
   "execution_count": null,
   "id": "e486e948-beeb-4d11-9f65-d9fad6423ebe",
   "metadata": {},
   "outputs": [],
   "source": [
    "#User X game matrix formation\n",
    "#We use two matrices here\n",
    "\n",
    "#Preference matrix : shows whether the user has actually purchased the game (1) or not (0)\n",
    "\n",
    "#Confidence matrix : The matrix that shows the confidence measure, or how long the user played / enjoyed the specific game."
   ]
  },
  {
   "cell_type": "code",
   "execution_count": 11,
   "id": "c89357b5-441f-4336-83db-aa60fc128d2a",
   "metadata": {},
   "outputs": [],
   "source": [
    "zero_matrix = np.zeros(shape = (n_users, n_games)) # Create a zero matrix\n",
    "user_game_pref = zero_matrix.copy()\n",
    "user_game_pref[user_idx, game_idx] = 1 # Fill preference matrix\n",
    "\n",
    "user_game_interactions = zero_matrix.copy()\n",
    "# Confidence matrix\n",
    "user_game_interactions[user_idx, game_idx] = hours + 1 "
   ]
  },
  {
   "cell_type": "code",
   "execution_count": 12,
   "id": "799af507-ee4a-439d-8229-fc6db55a14ac",
   "metadata": {},
   "outputs": [
    {
     "name": "stdout",
     "output_type": "stream",
     "text": [
      "2189 users bought 10 or more games\n"
     ]
    }
   ],
   "source": [
    "#verification\n",
    "\n",
    "k = 5\n",
    "\n",
    "# Count the number of purchases for each user\n",
    "purchase_counts = np.apply_along_axis(np.bincount, 1, user_game_pref.astype(int))\n",
    "buyers_idx = np.where(purchase_counts[:, 1] >= 2 * k)[0] #find the users who purchase 2 * k games\n",
    "print('{0} users bought {1} or more games'.format(len(buyers_idx), 2 * k))"
   ]
  },
  {
   "cell_type": "code",
   "execution_count": 13,
   "id": "8b5442f7-35de-440f-a04b-4b42d1d6e266",
   "metadata": {},
   "outputs": [],
   "source": [
    "test_frac = 0.2 # Let's save 10% of the data for validation and 10% for testing.\n",
    "test_users_idx = np.random.choice(buyers_idx,\n",
    "                                  size = int(np.ceil(len(buyers_idx) * test_frac)),\n",
    "                                  replace = False)"
   ]
  },
  {
   "cell_type": "code",
   "execution_count": 14,
   "id": "104d0457-f693-4045-b22e-e3d771d2a5a5",
   "metadata": {},
   "outputs": [],
   "source": [
    "val_users_idx = test_users_idx[:int(len(test_users_idx) / 2)]\n",
    "test_users_idx = test_users_idx[int(len(test_users_idx) / 2):]"
   ]
  },
  {
   "cell_type": "code",
   "execution_count": 15,
   "id": "95990f63-08a5-494f-8f25-c005402ed5b7",
   "metadata": {},
   "outputs": [],
   "source": [
    "def data_process(dat, train, test, user_idx, k):\n",
    "    for user in user_idx:\n",
    "        purchases = np.where(dat[user, :] == 1)[0]\n",
    "        mask = np.random.choice(purchases, size = k, replace = False)\n",
    "        \n",
    "        train[user, mask] = 0\n",
    "        test[user, mask] = dat[user, mask]\n",
    "    return train, test"
   ]
  },
  {
   "cell_type": "code",
   "execution_count": 16,
   "id": "90a91bbf-b053-4499-800e-644c167dc030",
   "metadata": {},
   "outputs": [],
   "source": [
    "train_matrix = user_game_pref.copy()\n",
    "test_matrix = zero_matrix.copy()\n",
    "val_matrix = zero_matrix.copy()\n",
    "\n",
    "# Mask the train matrix and create the validation and test matrices\n",
    "train_matrix, val_matrix = data_process(user_game_pref, train_matrix, val_matrix, val_users_idx, k)\n",
    "train_matrix, test_matrix = data_process(user_game_pref, train_matrix, test_matrix, test_users_idx, k)"
   ]
  },
  {
   "cell_type": "code",
   "execution_count": 17,
   "id": "dfc464d4-cf40-43ea-8d52-b29a19dc2882",
   "metadata": {},
   "outputs": [
    {
     "data": {
      "text/plain": [
       "array([1., 1., 1., 1., 1.])"
      ]
     },
     "execution_count": 17,
     "metadata": {},
     "output_type": "execute_result"
    }
   ],
   "source": [
    "test_matrix[test_users_idx[0], test_matrix[test_users_idx[0], :].nonzero()[0]]"
   ]
  },
  {
   "cell_type": "code",
   "execution_count": 18,
   "id": "e1a79e75-e2df-4267-af0d-f0e2bd54eb79",
   "metadata": {},
   "outputs": [
    {
     "data": {
      "text/plain": [
       "array([0., 0., 0., 0., 0.])"
      ]
     },
     "execution_count": 18,
     "metadata": {},
     "output_type": "execute_result"
    }
   ],
   "source": [
    "train_matrix[test_users_idx[0], test_matrix[test_users_idx[0], :].nonzero()[0]]"
   ]
  },
  {
   "cell_type": "code",
   "execution_count": null,
   "id": "7e3bbb98-a837-4392-85f4-8b16ec2067a1",
   "metadata": {},
   "outputs": [],
   "source": [
    "tf.reset_default_graph() # Create a new graphs\n",
    "\n",
    "pref = tf.placeholder(tf.float32, (n_users, n_games))  # Here's the preference matrix\n",
    "interactions = tf.placeholder(tf.float32, (n_users, n_games)) # Here's the hours played matrix\n",
    "users_idx = tf.placeholder(tf.int32, (None))"
   ]
  },
  {
   "cell_type": "code",
   "execution_count": null,
   "id": "82cf1896-f60d-40d6-86a2-aa57f24e3082",
   "metadata": {},
   "outputs": [],
   "source": [
    "n_features = 30 # number of features extracted\n",
    "\n",
    "# The X matrix represents the user latent preferences with a shape of user x latent features\n",
    "X = tf.Variable(tf.truncated_normal([n_users, n_features], mean = 0, stddev = 0.05))\n",
    "\n",
    "# The Y matrix represents the game latent features with a shape of game x latent features\n",
    "Y = tf.Variable(tf.truncated_normal([n_games, n_features], mean = 0, stddev = 0.05))\n",
    "\n",
    "# Here's the initilization of the confidence parameter\n",
    "conf_alpha = tf.Variable(tf.random_uniform([1], 0, 1))"
   ]
  },
  {
   "cell_type": "code",
   "execution_count": null,
   "id": "516b9215-bc07-4445-9765-07fdce6cb0e4",
   "metadata": {},
   "outputs": [],
   "source": [
    "#Adding biases\n",
    "#There could be differences with users and games. \n",
    "\n",
    "#Some games like DOTA 2 just don't have an end. While on the other side, there could be users that tend to speedrun through games thanks to their experience.\n",
    "\n",
    "#We want to implement a statistical model to take care of such biases."
   ]
  },
  {
   "cell_type": "code",
   "execution_count": 21,
   "id": "8c3d91c5-d4f6-4ffd-9baa-aa3d6e1894cf",
   "metadata": {},
   "outputs": [],
   "source": [
    "n_features = 30 # number of features extracted\n",
    "\n",
    "# The X matrix represents the user latent preferences with a shape of user x latent features\n",
    "X = tf.Variable(tf.truncated_normal([n_users, n_features], mean = 0, stddev = 0.05))\n",
    "\n",
    "# The Y matrix represents the game latent features with a shape of game x latent features\n",
    "Y = tf.Variable(tf.truncated_normal([n_games, n_features], mean = 0, stddev = 0.05))\n",
    "\n",
    "# Here's the initilization of the confidence parameter\n",
    "conf_alpha = tf.Variable(tf.random_uniform([1], 0, 1))"
   ]
  },
  {
   "cell_type": "code",
   "execution_count": 22,
   "id": "9553f50e-ab5b-4f0b-aa01-345243d13924",
   "metadata": {},
   "outputs": [],
   "source": [
    "#user bias\n",
    "user_bias = tf.Variable(tf.truncated_normal([n_users, 1], stddev = 0.2))\n",
    "\n",
    "# Concatenate the vector to the user matrix\n",
    "X_plus_bias = tf.concat([X, \n",
    "                         #tf.convert_to_tensor(user_bias, dtype = tf.float32),\n",
    "                         user_bias,\n",
    "                         tf.ones((n_users, 1), dtype = tf.float32)], axis = 1)"
   ]
  },
  {
   "cell_type": "code",
   "execution_count": 23,
   "id": "9349002e-968d-407c-b8ad-81230f143544",
   "metadata": {},
   "outputs": [],
   "source": [
    "# game bias\n",
    "item_bias = tf.Variable(tf.truncated_normal([n_games, 1], stddev = 0.2))\n",
    "\n",
    "# Cocatenate the vector to the game matrix\n",
    "Y_plus_bias = tf.concat([Y, \n",
    "                         tf.ones((n_games, 1), dtype = tf.float32),\n",
    "                         item_bias],\n",
    "                         axis = 1)"
   ]
  },
  {
   "cell_type": "code",
   "execution_count": 24,
   "id": "6c1c2f53-dc3d-4c6a-b3b9-114c3abea244",
   "metadata": {},
   "outputs": [],
   "source": [
    "pred_pref = tf.matmul(X_plus_bias, Y_plus_bias, transpose_b=True)\n",
    "\n",
    "# Construct the confidence matrix with the hours played and alpha paramter\n",
    "conf = 1 + conf_alpha * interactions"
   ]
  },
  {
   "cell_type": "code",
   "execution_count": 25,
   "id": "e44ddc93-a234-432b-8054-b2c5d3ce2377",
   "metadata": {},
   "outputs": [],
   "source": [
    "cost = tf.reduce_sum(tf.multiply(conf, tf.square(tf.subtract(pref, pred_pref))))\n",
    "l2_sqr = tf.nn.l2_loss(X) + tf.nn.l2_loss(Y) + tf.nn.l2_loss(user_bias) + tf.nn.l2_loss(item_bias)\n",
    "lambda_c = 0.01\n",
    "loss = cost + lambda_c * l2_sqr"
   ]
  },
  {
   "cell_type": "code",
   "execution_count": 26,
   "id": "fd272c23-743c-43e4-9066-6be826bcabc6",
   "metadata": {},
   "outputs": [
    {
     "name": "stdout",
     "output_type": "stream",
     "text": [
      "WARNING:tensorflow:From C:\\Users\\STATIS~1\\AppData\\Local\\Temp/ipykernel_33908/3666023267.py:2: The name tf.train.AdagradOptimizer is deprecated. Please use tf.compat.v1.train.AdagradOptimizer instead.\n",
      "\n",
      "WARNING:tensorflow:From C:\\Users\\StatisQuo\\anaconda3\\envs\\dev\\lib\\site-packages\\tensorflow\\python\\training\\adagrad.py:76: calling Constant.__init__ (from tensorflow.python.ops.init_ops) with dtype is deprecated and will be removed in a future version.\n",
      "Instructions for updating:\n",
      "Call initializer instance with the dtype argument instead of passing it to the constructor\n"
     ]
    }
   ],
   "source": [
    "lr = 0.05\n",
    "optimize = tf.train.AdagradOptimizer(learning_rate = lr).minimize(loss)"
   ]
  },
  {
   "cell_type": "code",
   "execution_count": 27,
   "id": "0155e770-a58c-4540-a31c-c1e621f8fd01",
   "metadata": {},
   "outputs": [],
   "source": [
    "# This is a function that helps to calculate the top k precision \n",
    "def top_k_precision(pred, mat, k, user_idx):\n",
    "    precisions = []\n",
    "    \n",
    "    for user in user_idx:\n",
    "        rec = np.argsort(-pred[user, :]) # Found the top recommendation from the predictions\n",
    "        \n",
    "        top_k = rec[:k]\n",
    "        labels = mat[user, :].nonzero()[0]\n",
    "        \n",
    "        precision = len(set(top_k) & set(labels)) / float(k) # Calculate the precisions from actual labels\n",
    "        precisions.append(precision)\n",
    "    return np.mean(precisions) "
   ]
  },
  {
   "cell_type": "code",
   "execution_count": 28,
   "id": "b7c05caf-1121-46ca-a565-932238ba7674",
   "metadata": {},
   "outputs": [
    {
     "name": "stdout",
     "output_type": "stream",
     "text": [
      "WARNING:tensorflow:From C:\\Users\\STATIS~1\\AppData\\Local\\Temp/ipykernel_33908/2788727482.py:2: The name tf.Session is deprecated. Please use tf.compat.v1.Session instead.\n",
      "\n",
      "Iterations 0... Training Loss 4273684.50... Train Precision 0.103... Val Precision 0.012\n",
      "Iterations 10... Training Loss 416310.59... Train Precision 0.407... Val Precision 0.029\n",
      "Iterations 20... Training Loss 323009.59... Train Precision 0.476... Val Precision 0.035\n",
      "Iterations 30... Training Loss 288652.19... Train Precision 0.521... Val Precision 0.037\n",
      "Iterations 40... Training Loss 267139.28... Train Precision 0.544... Val Precision 0.038\n",
      "Iterations 50... Training Loss 251879.92... Train Precision 0.570... Val Precision 0.039\n",
      "Iterations 60... Training Loss 240117.73... Train Precision 0.584... Val Precision 0.037\n",
      "Iterations 70... Training Loss 230639.25... Train Precision 0.590... Val Precision 0.039\n",
      "Iterations 80... Training Loss 222648.48... Train Precision 0.601... Val Precision 0.039\n",
      "Iterations 90... Training Loss 215683.17... Train Precision 0.611... Val Precision 0.040\n",
      "\n",
      "\n",
      "Test Precision0.035\n"
     ]
    }
   ],
   "source": [
    "iterations = 100\n",
    "with tf.Session() as sess:\n",
    "    sess.run(tf.global_variables_initializer())\n",
    "    \n",
    "    for i in range(iterations):\n",
    "        sess.run(optimize, feed_dict = {pref: train_matrix,\n",
    "                                        interactions: user_game_interactions})\n",
    "        \n",
    "        if i % 10 == 0:\n",
    "            mod_loss = sess.run(loss, feed_dict = {pref: train_matrix,\n",
    "                                                   interactions: user_game_interactions})            \n",
    "            mod_pred = pred_pref.eval()\n",
    "            train_precision = top_k_precision(mod_pred, train_matrix, k, val_users_idx)\n",
    "            val_precision = top_k_precision(mod_pred, val_matrix, k, val_users_idx)\n",
    "            print('Iterations {0}...'.format(i),\n",
    "                  'Training Loss {:.2f}...'.format(mod_loss),\n",
    "                  'Train Precision {:.3f}...'.format(train_precision),\n",
    "                  'Val Precision {:.3f}'.format(val_precision)\n",
    "                )\n",
    "\n",
    "    rec = pred_pref.eval()\n",
    "    test_precision = top_k_precision(rec, test_matrix, k, test_users_idx)\n",
    "    print('\\n')\n",
    "    print('Test Precision{:.3f}'.format(test_precision))"
   ]
  },
  {
   "cell_type": "code",
   "execution_count": 31,
   "id": "5983ff90-ffa1-429a-b378-5ab86772e530",
   "metadata": {},
   "outputs": [],
   "source": [
    "# Test\n",
    "\n",
    "#The overall precision score comes out really low. However, I think there should be a separate way to tell whether this precision is correct or not. (more domain-knowledge based like genre savvy-ness or the relations of the games etc)\n",
    "\n",
    "#After all, the recommender is not doing its job if it recommends the games the user already bought."
   ]
  },
  {
   "cell_type": "code",
   "execution_count": 29,
   "id": "48823c00-862d-4350-89a5-3c7671698aae",
   "metadata": {},
   "outputs": [],
   "source": [
    "n_examples = 10\n",
    "users = np.random.choice(test_users_idx, size = n_examples, replace = False)\n",
    "rec_games = np.argsort(-rec)"
   ]
  },
  {
   "cell_type": "code",
   "execution_count": 30,
   "id": "c6e9d58e-a78f-4e28-a43d-17c692ccef90",
   "metadata": {},
   "outputs": [
    {
     "name": "stdout",
     "output_type": "stream",
     "text": [
      "User #262474788 recommendations ...\n",
      "Recommendations\n",
      "Dota 2, Heroes & Generals, Dirty Bomb, Defiance, Call of Duty Modern Warfare 2 - Multiplayer\n",
      "\n",
      "\n",
      "Actual purchases\n",
      "Unturned, Loadout, Blacklight Retribution, Neverwinter, Toribash\n",
      "\n",
      "\n",
      "Precision of 0.0\n",
      "--------------------------------------\n",
      "\n",
      "\n",
      "User #190191843 recommendations ...\n",
      "Recommendations\n",
      "The Elder Scrolls V Skyrim, Dota 2, Euro Truck Simulator 2, DayZ, Saints Row IV\n",
      "\n",
      "\n",
      "Actual purchases\n",
      "BattleBlock Theater, PlanetSide 2, Metro Last Light Redux, Five Nights at Freddy's, oO\n",
      "\n",
      "\n",
      "Precision of 0.0\n",
      "--------------------------------------\n",
      "\n",
      "\n",
      "User #125912054 recommendations ...\n",
      "Recommendations\n",
      "Garry's Mod, Unturned, Team Fortress 2, Warframe, War Thunder\n",
      "\n",
      "\n",
      "Actual purchases\n",
      "The Elder Scrolls V Skyrim, Bulletstorm, The Witcher 3 Wild Hunt, BioShock 2, Gothic II Gold Edition\n",
      "\n",
      "\n",
      "Precision of 0.0\n",
      "--------------------------------------\n",
      "\n",
      "\n",
      "User #1971801 recommendations ...\n",
      "Recommendations\n",
      "Counter-Strike, Team Fortress 2, Dota 2, Counter-Strike Source, Half-Life\n",
      "\n",
      "\n",
      "Actual purchases\n",
      "Counter-Strike, Half-Life, Half-Life Blue Shift, Half-Life Opposing Force, Team Fortress Classic\n",
      "\n",
      "\n",
      "Precision of 0.4\n",
      "--------------------------------------\n",
      "\n",
      "\n",
      "User #221694858 recommendations ...\n",
      "Recommendations\n",
      "Garry's Mod, Left 4 Dead 2, Counter-Strike Source, Age of Empires II HD Edition, Dota 2\n",
      "\n",
      "\n",
      "Actual purchases\n",
      "The Walking Dead, Unturned, DayZ, Arma 3 Zeus, Crossfire Europe\n",
      "\n",
      "\n",
      "Precision of 0.0\n",
      "--------------------------------------\n",
      "\n",
      "\n",
      "User #58931437 recommendations ...\n",
      "Recommendations\n",
      "Half-Life 2 Deathmatch, Left 4 Dead, Far Cry 3, Fallout New Vegas, Grand Theft Auto IV\n",
      "\n",
      "\n",
      "Actual purchases\n",
      "Deus Ex Game of the Year Edition, Worms Reloaded, Max Payne 2 The Fall of Max Payne, Plants vs. Zombies Game of the Year, Carrier Command Gaea Mission\n",
      "\n",
      "\n",
      "Precision of 0.0\n",
      "--------------------------------------\n",
      "\n",
      "\n",
      "User #29239329 recommendations ...\n",
      "Recommendations\n",
      "Portal, Borderlands 2, Half-Life 2, Half-Life 2 Lost Coast, Dota 2\n",
      "\n",
      "\n",
      "Actual purchases\n",
      "Braid, King's Bounty Crossworlds, Magicka Vietnam, PAYDAY The Heist, Besiege\n",
      "\n",
      "\n",
      "Precision of 0.0\n",
      "--------------------------------------\n",
      "\n",
      "\n",
      "User #79715089 recommendations ...\n",
      "Recommendations\n",
      "PAYDAY 2, Path of Exile, Left 4 Dead 2, Saints Row The Third, Tomb Raider\n",
      "\n",
      "\n",
      "Actual purchases\n",
      "Fallout New Vegas, Fallout New Vegas Dead Money, Fallout New Vegas Honest Hearts, Dizzel, The Witcher Enhanced Edition\n",
      "\n",
      "\n",
      "Precision of 0.0\n",
      "--------------------------------------\n",
      "\n",
      "\n",
      "User #54310644 recommendations ...\n",
      "Recommendations\n",
      "Fallout 4, The Elder Scrolls V Skyrim, DayZ, Warframe, Batman Arkham Origins\n",
      "\n",
      "\n",
      "Actual purchases\n",
      "Counter-Strike Global Offensive, Worms Revolution, Grand Theft Auto Episodes from Liberty City, Borderlands 2 Headhunter 1 Bloody Harvest, System Shock 2\n",
      "\n",
      "\n",
      "Precision of 0.0\n",
      "--------------------------------------\n",
      "\n",
      "\n",
      "User #143157943 recommendations ...\n",
      "Recommendations\n",
      "Team Fortress 2, Warframe, Unturned, PlanetSide 2, Football Manager 2012\n",
      "\n",
      "\n",
      "Actual purchases\n",
      "Counter-Strike, Counter-Strike Global Offensive, Red Orchestra 2 Heroes of Stalingrad - Single Player, Zombies Monsters Robots, APB Reloaded\n",
      "\n",
      "\n",
      "Precision of 0.0\n",
      "--------------------------------------\n",
      "\n",
      "\n"
     ]
    }
   ],
   "source": [
    "for user in users:\n",
    "    print('User #{0} recommendations ...'.format(idx2user[user]))\n",
    "    purchase_history = np.where(train_matrix[user, :] != 0)[0]\n",
    "    recommendations = rec_games[user, :]\n",
    "\n",
    "    \n",
    "    new_recommendations = recommendations[~np.in1d(recommendations, purchase_history)][:k]\n",
    "    \n",
    "    print('Recommendations')\n",
    "    print(', '.join([idx2game[game] for game in new_recommendations]))\n",
    "    print('\\n')\n",
    "    print('Actual purchases')\n",
    "    print(', '.join([idx2game[game] for game in np.where(test_matrix[user, :] != 0)[0]]))\n",
    "    print('\\n')\n",
    "    print('Precision of {0}'.format(len(set(new_recommendations) & set(np.where(test_matrix[user, :] != 0)[0])) / float(k)))\n",
    "    print('--------------------------------------')\n",
    "    print('\\n')"
   ]
  },
  {
   "cell_type": "code",
   "execution_count": 33,
   "id": "6cfa46fe-52c4-4c18-b8e9-0add8141f3b1",
   "metadata": {},
   "outputs": [],
   "source": [
    "#Result evaluation\n",
    "#Some users were very genre-based and predictable. User #22689481 got the following results :\n",
    "\n",
    "#Recommendations Counter-Strike Condition Zero Deleted Scenes, Counter-Strike Condition Zero, Deathmatch Classic, Ricochet, Left 4 Dead 2\n",
    "\n",
    "#Actual purchases Deathmatch Classic, Half-Life 2 Lost Coast, Ricochet, Counter-Strike Condition Zero, Counter-Strike Condition Zero Deleted Scenes\n",
    "\n",
    "#...which meant he is a very hardcore FPS gamer.\n",
    "\n",
    "#However, some users such as User #129391396 got some strange-looking results such as :\n",
    "\n",
    "#Recommendations Counter-Strike Global Offensive, Dota 2, Team Fortress 2, The Elder Scrolls V Skyrim, Portal\n",
    "\n",
    "#Actual purchases Team Fortress 2, Call of Duty Modern Warfare 3, Call of Duty Modern Warfare 3 - Multiplayer, Rust, Stranded Deep\n",
    "\n",
    "#Maybe he was affiliated with games that were popular (Team Fortress 2, Call of Duty, Rust), so he got recommended other commercially popular games recommended to him such as CS:GO(understandable as it is an FPS), Dota 2 and Skyrim."
   ]
  },
  {
   "cell_type": "code",
   "execution_count": null,
   "id": "73a7b400-20a8-4b5f-9243-94f93c6192f0",
   "metadata": {},
   "outputs": [],
   "source": []
  }
 ],
 "metadata": {
  "kernelspec": {
   "display_name": "Python 3 (ipykernel)",
   "language": "python",
   "name": "python3"
  },
  "language_info": {
   "codemirror_mode": {
    "name": "ipython",
    "version": 3
   },
   "file_extension": ".py",
   "mimetype": "text/x-python",
   "name": "python",
   "nbconvert_exporter": "python",
   "pygments_lexer": "ipython3",
   "version": "3.7.11"
  }
 },
 "nbformat": 4,
 "nbformat_minor": 5
}
